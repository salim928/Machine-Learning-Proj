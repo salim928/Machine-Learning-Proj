{
 "cells": [
  {
   "cell_type": "code",
   "execution_count": 1,
   "metadata": {},
   "outputs": [],
   "source": [
    "from __future__ import absolute_import, division, print_function, unicode_literals\n",
    "\n",
    "import tensorflow as tf\n",
    "\n",
    "import pandas as pd"
   ]
  },
  {
   "cell_type": "code",
   "execution_count": 2,
   "metadata": {},
   "outputs": [],
   "source": [
    "CSV_COLUMN_NAMES = ['SepalLength','SepalWidth','PetalLength','PetalWidth','Species']\n",
    "SPECIES = ['Setosa','Versicolor','Virginica']\n",
    "#lets define some constants to help us later on"
   ]
  },
  {
   "cell_type": "code",
   "execution_count": 3,
   "metadata": {},
   "outputs": [],
   "source": [
    "train_path = tf.keras.utils.get_file(\"iris_training.csv\",\"https://storage.googleapis.com/download.tensorflow.org/data/iris_training.csv\")\n",
    "test_path = tf.keras.utils.get_file(\"iris_tarining.csv\",\"https://storage.googleapis.com/download.tensorflow.org/data/iris_test.csv\")\n",
    "\n",
    "\n",
    "train = pd.read_csv(train_path, names=CSV_COLUMN_NAMES, header=0)\n",
    "test = pd.read_csv(test_path, names=CSV_COLUMN_NAMES, header=0)\n",
    "\n",
    "#here we use keras(a module inside of tensorflow) to grab our datasets and read them into a pandas dataframe"
   ]
  },
  {
   "cell_type": "code",
   "execution_count": 4,
   "metadata": {},
   "outputs": [
    {
     "data": {
      "text/html": [
       "<div>\n",
       "<style scoped>\n",
       "    .dataframe tbody tr th:only-of-type {\n",
       "        vertical-align: middle;\n",
       "    }\n",
       "\n",
       "    .dataframe tbody tr th {\n",
       "        vertical-align: top;\n",
       "    }\n",
       "\n",
       "    .dataframe thead th {\n",
       "        text-align: right;\n",
       "    }\n",
       "</style>\n",
       "<table border=\"1\" class=\"dataframe\">\n",
       "  <thead>\n",
       "    <tr style=\"text-align: right;\">\n",
       "      <th></th>\n",
       "      <th>SepalLength</th>\n",
       "      <th>SepalWidth</th>\n",
       "      <th>PetalLength</th>\n",
       "      <th>PetalWidth</th>\n",
       "      <th>Species</th>\n",
       "    </tr>\n",
       "  </thead>\n",
       "  <tbody>\n",
       "    <tr>\n",
       "      <th>0</th>\n",
       "      <td>6.4</td>\n",
       "      <td>2.8</td>\n",
       "      <td>5.6</td>\n",
       "      <td>2.2</td>\n",
       "      <td>2</td>\n",
       "    </tr>\n",
       "    <tr>\n",
       "      <th>1</th>\n",
       "      <td>5.0</td>\n",
       "      <td>2.3</td>\n",
       "      <td>3.3</td>\n",
       "      <td>1.0</td>\n",
       "      <td>1</td>\n",
       "    </tr>\n",
       "    <tr>\n",
       "      <th>2</th>\n",
       "      <td>4.9</td>\n",
       "      <td>2.5</td>\n",
       "      <td>4.5</td>\n",
       "      <td>1.7</td>\n",
       "      <td>2</td>\n",
       "    </tr>\n",
       "    <tr>\n",
       "      <th>3</th>\n",
       "      <td>4.9</td>\n",
       "      <td>3.1</td>\n",
       "      <td>1.5</td>\n",
       "      <td>0.1</td>\n",
       "      <td>0</td>\n",
       "    </tr>\n",
       "    <tr>\n",
       "      <th>4</th>\n",
       "      <td>5.7</td>\n",
       "      <td>3.8</td>\n",
       "      <td>1.7</td>\n",
       "      <td>0.3</td>\n",
       "      <td>0</td>\n",
       "    </tr>\n",
       "  </tbody>\n",
       "</table>\n",
       "</div>"
      ],
      "text/plain": [
       "   SepalLength  SepalWidth  PetalLength  PetalWidth  Species\n",
       "0          6.4         2.8          5.6         2.2        2\n",
       "1          5.0         2.3          3.3         1.0        1\n",
       "2          4.9         2.5          4.5         1.7        2\n",
       "3          4.9         3.1          1.5         0.1        0\n",
       "4          5.7         3.8          1.7         0.3        0"
      ]
     },
     "execution_count": 4,
     "metadata": {},
     "output_type": "execute_result"
    }
   ],
   "source": [
    "train.head()"
   ]
  },
  {
   "cell_type": "code",
   "execution_count": 5,
   "metadata": {},
   "outputs": [
    {
     "data": {
      "text/html": [
       "<div>\n",
       "<style scoped>\n",
       "    .dataframe tbody tr th:only-of-type {\n",
       "        vertical-align: middle;\n",
       "    }\n",
       "\n",
       "    .dataframe tbody tr th {\n",
       "        vertical-align: top;\n",
       "    }\n",
       "\n",
       "    .dataframe thead th {\n",
       "        text-align: right;\n",
       "    }\n",
       "</style>\n",
       "<table border=\"1\" class=\"dataframe\">\n",
       "  <thead>\n",
       "    <tr style=\"text-align: right;\">\n",
       "      <th></th>\n",
       "      <th>SepalLength</th>\n",
       "      <th>SepalWidth</th>\n",
       "      <th>PetalLength</th>\n",
       "      <th>PetalWidth</th>\n",
       "    </tr>\n",
       "  </thead>\n",
       "  <tbody>\n",
       "    <tr>\n",
       "      <th>0</th>\n",
       "      <td>6.4</td>\n",
       "      <td>2.8</td>\n",
       "      <td>5.6</td>\n",
       "      <td>2.2</td>\n",
       "    </tr>\n",
       "    <tr>\n",
       "      <th>1</th>\n",
       "      <td>5.0</td>\n",
       "      <td>2.3</td>\n",
       "      <td>3.3</td>\n",
       "      <td>1.0</td>\n",
       "    </tr>\n",
       "    <tr>\n",
       "      <th>2</th>\n",
       "      <td>4.9</td>\n",
       "      <td>2.5</td>\n",
       "      <td>4.5</td>\n",
       "      <td>1.7</td>\n",
       "    </tr>\n",
       "    <tr>\n",
       "      <th>3</th>\n",
       "      <td>4.9</td>\n",
       "      <td>3.1</td>\n",
       "      <td>1.5</td>\n",
       "      <td>0.1</td>\n",
       "    </tr>\n",
       "    <tr>\n",
       "      <th>4</th>\n",
       "      <td>5.7</td>\n",
       "      <td>3.8</td>\n",
       "      <td>1.7</td>\n",
       "      <td>0.3</td>\n",
       "    </tr>\n",
       "  </tbody>\n",
       "</table>\n",
       "</div>"
      ],
      "text/plain": [
       "   SepalLength  SepalWidth  PetalLength  PetalWidth\n",
       "0          6.4         2.8          5.6         2.2\n",
       "1          5.0         2.3          3.3         1.0\n",
       "2          4.9         2.5          4.5         1.7\n",
       "3          4.9         3.1          1.5         0.1\n",
       "4          5.7         3.8          1.7         0.3"
      ]
     },
     "execution_count": 5,
     "metadata": {},
     "output_type": "execute_result"
    }
   ],
   "source": [
    "train_y = train.pop('Species')\n",
    "test_y = test.pop('Species')\n",
    "train.head()   #the species column id now gone"
   ]
  },
  {
   "cell_type": "code",
   "execution_count": 6,
   "metadata": {},
   "outputs": [
    {
     "data": {
      "text/plain": [
       "(120, 4)"
      ]
     },
     "execution_count": 6,
     "metadata": {},
     "output_type": "execute_result"
    }
   ],
   "source": [
    "train.shape   #we have 120 entries with 4 features"
   ]
  },
  {
   "cell_type": "code",
   "execution_count": 7,
   "metadata": {},
   "outputs": [],
   "source": [
    "def input_fn(features, labels, training=True, batch_size=256):\n",
    "    #convert the inputs to a Dataset.\n",
    "    dataset = tf.data.Dataset.from_tensor_slices((dict(features), labels))\n",
    "    \n",
    "    #shuffle and repeat if you are in training mode\n",
    "    if training:\n",
    "        dataset = dataset.shuffle(1000).repeat()\n",
    "        \n",
    "        \n",
    "    return dataset.batch(batch_size)"
   ]
  },
  {
   "cell_type": "code",
   "execution_count": 8,
   "metadata": {},
   "outputs": [
    {
     "name": "stdout",
     "output_type": "stream",
     "text": [
      "[NumericColumn(key='SepalLength', shape=(1,), default_value=None, dtype=tf.float32, normalizer_fn=None), NumericColumn(key='SepalWidth', shape=(1,), default_value=None, dtype=tf.float32, normalizer_fn=None), NumericColumn(key='PetalLength', shape=(1,), default_value=None, dtype=tf.float32, normalizer_fn=None), NumericColumn(key='PetalWidth', shape=(1,), default_value=None, dtype=tf.float32, normalizer_fn=None)]\n"
     ]
    }
   ],
   "source": [
    "#Feature columns describe how to use the input\n",
    "my_feature_columns = []\n",
    "for key in train.keys():\n",
    "    my_feature_columns.append(tf.feature_column.numeric_column(key=key))\n",
    "print(my_feature_columns)    "
   ]
  },
  {
   "cell_type": "code",
   "execution_count": 9,
   "metadata": {},
   "outputs": [
    {
     "name": "stdout",
     "output_type": "stream",
     "text": [
      "INFO:tensorflow:Using default config.\n",
      "WARNING:tensorflow:Using temporary folder as model directory: C:\\Users\\LAPTOP\\AppData\\Local\\Temp\\tmpa5rsy1r4\n",
      "INFO:tensorflow:Using config: {'_model_dir': 'C:\\\\Users\\\\LAPTOP\\\\AppData\\\\Local\\\\Temp\\\\tmpa5rsy1r4', '_tf_random_seed': None, '_save_summary_steps': 100, '_save_checkpoints_steps': None, '_save_checkpoints_secs': 600, '_session_config': allow_soft_placement: true\n",
      "graph_options {\n",
      "  rewrite_options {\n",
      "    meta_optimizer_iterations: ONE\n",
      "  }\n",
      "}\n",
      ", '_keep_checkpoint_max': 5, '_keep_checkpoint_every_n_hours': 10000, '_log_step_count_steps': 100, '_train_distribute': None, '_device_fn': None, '_protocol': None, '_eval_distribute': None, '_experimental_distribute': None, '_experimental_max_worker_delay_secs': None, '_session_creation_timeout_secs': 7200, '_checkpoint_save_graph_def': True, '_service': None, '_cluster_spec': ClusterSpec({}), '_task_type': 'worker', '_task_id': 0, '_global_id_in_cluster': 0, '_master': '', '_evaluation_master': '', '_is_chief': True, '_num_ps_replicas': 0, '_num_worker_replicas': 1}\n"
     ]
    }
   ],
   "source": [
    "#Build a DNN with 2 hidden layers with 30 and 10 hidden nodes each\n",
    "#Two hidden layers of 30 and 10 nodes respectively\n",
    "#The model must choose between 3 classes\n",
    "Classifier = tf.estimator.DNNClassifier(feature_columns=my_feature_columns, hidden_units=[30, 10], n_classes=3)"
   ]
  },
  {
   "cell_type": "code",
   "execution_count": 10,
   "metadata": {},
   "outputs": [
    {
     "name": "stdout",
     "output_type": "stream",
     "text": [
      "WARNING:tensorflow:From C:\\Users\\LAPTOP\\anaconda3\\lib\\site-packages\\tensorflow\\python\\training\\training_util.py:400: Variable.initialized_value (from tensorflow.python.ops.variables) is deprecated and will be removed in a future version.\n",
      "Instructions for updating:\n",
      "Use Variable.read_value. Variables in 2.X are initialized automatically both in eager and graph (inside tf.defun) contexts.\n",
      "INFO:tensorflow:Calling model_fn.\n",
      "WARNING:tensorflow:From C:\\Users\\LAPTOP\\anaconda3\\lib\\site-packages\\keras\\optimizer_v2\\adagrad.py:83: calling Constant.__init__ (from tensorflow.python.ops.init_ops) with dtype is deprecated and will be removed in a future version.\n",
      "Instructions for updating:\n",
      "Call initializer instance with the dtype argument instead of passing it to the constructor\n",
      "INFO:tensorflow:Done calling model_fn.\n",
      "INFO:tensorflow:Create CheckpointSaverHook.\n",
      "INFO:tensorflow:Graph was finalized.\n",
      "INFO:tensorflow:Running local_init_op.\n",
      "INFO:tensorflow:Done running local_init_op.\n",
      "INFO:tensorflow:Calling checkpoint listeners before saving checkpoint 0...\n",
      "INFO:tensorflow:Saving checkpoints for 0 into C:\\Users\\LAPTOP\\AppData\\Local\\Temp\\tmpa5rsy1r4\\model.ckpt.\n",
      "INFO:tensorflow:Calling checkpoint listeners after saving checkpoint 0...\n",
      "INFO:tensorflow:loss = 1.0561389, step = 0\n",
      "INFO:tensorflow:global_step/sec: 168.471\n",
      "INFO:tensorflow:loss = 0.8287389, step = 100 (0.645 sec)\n",
      "INFO:tensorflow:global_step/sec: 189.25\n",
      "INFO:tensorflow:loss = 0.77681524, step = 200 (0.476 sec)\n",
      "INFO:tensorflow:global_step/sec: 265.88\n",
      "INFO:tensorflow:loss = 0.74672455, step = 300 (0.382 sec)\n",
      "INFO:tensorflow:global_step/sec: 262.133\n",
      "INFO:tensorflow:loss = 0.715682, step = 400 (0.372 sec)\n",
      "INFO:tensorflow:global_step/sec: 270.292\n",
      "INFO:tensorflow:loss = 0.6824776, step = 500 (0.370 sec)\n",
      "INFO:tensorflow:global_step/sec: 265.305\n",
      "INFO:tensorflow:loss = 0.65732354, step = 600 (0.380 sec)\n",
      "INFO:tensorflow:global_step/sec: 264.87\n",
      "INFO:tensorflow:loss = 0.62315714, step = 700 (0.377 sec)\n",
      "INFO:tensorflow:global_step/sec: 301.75\n",
      "INFO:tensorflow:loss = 0.61495566, step = 800 (0.333 sec)\n",
      "INFO:tensorflow:global_step/sec: 313.938\n",
      "INFO:tensorflow:loss = 0.5926317, step = 900 (0.316 sec)\n",
      "INFO:tensorflow:global_step/sec: 295.222\n",
      "INFO:tensorflow:loss = 0.5770409, step = 1000 (0.339 sec)\n",
      "INFO:tensorflow:global_step/sec: 329.098\n",
      "INFO:tensorflow:loss = 0.55300474, step = 1100 (0.305 sec)\n",
      "INFO:tensorflow:global_step/sec: 310.421\n",
      "INFO:tensorflow:loss = 0.53970164, step = 1200 (0.322 sec)\n",
      "INFO:tensorflow:global_step/sec: 311.228\n",
      "INFO:tensorflow:loss = 0.5250094, step = 1300 (0.322 sec)\n",
      "INFO:tensorflow:global_step/sec: 313.262\n",
      "INFO:tensorflow:loss = 0.5218849, step = 1400 (0.319 sec)\n",
      "INFO:tensorflow:global_step/sec: 314.721\n",
      "INFO:tensorflow:loss = 0.506193, step = 1500 (0.317 sec)\n",
      "INFO:tensorflow:global_step/sec: 322.712\n",
      "INFO:tensorflow:loss = 0.48781896, step = 1600 (0.310 sec)\n",
      "INFO:tensorflow:global_step/sec: 242.587\n",
      "INFO:tensorflow:loss = 0.4859209, step = 1700 (0.415 sec)\n",
      "INFO:tensorflow:global_step/sec: 237.203\n",
      "INFO:tensorflow:loss = 0.47351038, step = 1800 (0.420 sec)\n",
      "INFO:tensorflow:global_step/sec: 226.475\n",
      "INFO:tensorflow:loss = 0.46246514, step = 1900 (0.439 sec)\n",
      "INFO:tensorflow:global_step/sec: 239.854\n",
      "INFO:tensorflow:loss = 0.44759858, step = 2000 (0.417 sec)\n",
      "INFO:tensorflow:global_step/sec: 232.147\n",
      "INFO:tensorflow:loss = 0.44451398, step = 2100 (0.431 sec)\n",
      "INFO:tensorflow:global_step/sec: 240.512\n",
      "INFO:tensorflow:loss = 0.4465411, step = 2200 (0.424 sec)\n",
      "INFO:tensorflow:global_step/sec: 240.109\n",
      "INFO:tensorflow:loss = 0.4303398, step = 2300 (0.416 sec)\n",
      "INFO:tensorflow:global_step/sec: 265.035\n",
      "INFO:tensorflow:loss = 0.42129457, step = 2400 (0.384 sec)\n",
      "INFO:tensorflow:global_step/sec: 240.005\n",
      "INFO:tensorflow:loss = 0.4103055, step = 2500 (0.402 sec)\n",
      "INFO:tensorflow:global_step/sec: 239.989\n",
      "INFO:tensorflow:loss = 0.3969049, step = 2600 (0.421 sec)\n",
      "INFO:tensorflow:global_step/sec: 244.883\n",
      "INFO:tensorflow:loss = 0.395575, step = 2700 (0.405 sec)\n",
      "INFO:tensorflow:global_step/sec: 228.988\n",
      "INFO:tensorflow:loss = 0.37236828, step = 2800 (0.436 sec)\n",
      "INFO:tensorflow:global_step/sec: 212.738\n",
      "INFO:tensorflow:loss = 0.37833267, step = 2900 (0.470 sec)\n",
      "INFO:tensorflow:global_step/sec: 247.655\n",
      "INFO:tensorflow:loss = 0.36778858, step = 3000 (0.404 sec)\n",
      "INFO:tensorflow:global_step/sec: 264.823\n",
      "INFO:tensorflow:loss = 0.36524785, step = 3100 (0.378 sec)\n",
      "INFO:tensorflow:global_step/sec: 269.465\n",
      "INFO:tensorflow:loss = 0.36868507, step = 3200 (0.372 sec)\n",
      "INFO:tensorflow:global_step/sec: 254.85\n",
      "INFO:tensorflow:loss = 0.35011265, step = 3300 (0.394 sec)\n",
      "INFO:tensorflow:global_step/sec: 259.553\n",
      "INFO:tensorflow:loss = 0.3561641, step = 3400 (0.382 sec)\n",
      "INFO:tensorflow:global_step/sec: 266.083\n",
      "INFO:tensorflow:loss = 0.34238487, step = 3500 (0.383 sec)\n",
      "INFO:tensorflow:global_step/sec: 252.19\n",
      "INFO:tensorflow:loss = 0.3335228, step = 3600 (0.392 sec)\n",
      "INFO:tensorflow:global_step/sec: 242.44\n",
      "INFO:tensorflow:loss = 0.34128788, step = 3700 (0.417 sec)\n",
      "INFO:tensorflow:global_step/sec: 262.905\n",
      "INFO:tensorflow:loss = 0.313964, step = 3800 (0.378 sec)\n",
      "INFO:tensorflow:global_step/sec: 247.732\n",
      "INFO:tensorflow:loss = 0.32638833, step = 3900 (0.400 sec)\n",
      "INFO:tensorflow:global_step/sec: 261.751\n",
      "INFO:tensorflow:loss = 0.31000254, step = 4000 (0.382 sec)\n",
      "INFO:tensorflow:global_step/sec: 262.505\n",
      "INFO:tensorflow:loss = 0.3078708, step = 4100 (0.384 sec)\n",
      "INFO:tensorflow:global_step/sec: 257.573\n",
      "INFO:tensorflow:loss = 0.31011117, step = 4200 (0.392 sec)\n",
      "INFO:tensorflow:global_step/sec: 259.894\n",
      "INFO:tensorflow:loss = 0.3045156, step = 4300 (0.378 sec)\n",
      "INFO:tensorflow:global_step/sec: 251.379\n",
      "INFO:tensorflow:loss = 0.30912519, step = 4400 (0.399 sec)\n",
      "INFO:tensorflow:global_step/sec: 250.697\n",
      "INFO:tensorflow:loss = 0.29371834, step = 4500 (0.399 sec)\n",
      "INFO:tensorflow:global_step/sec: 270.071\n",
      "INFO:tensorflow:loss = 0.28857115, step = 4600 (0.373 sec)\n",
      "INFO:tensorflow:global_step/sec: 243.83\n",
      "INFO:tensorflow:loss = 0.30012977, step = 4700 (0.409 sec)\n",
      "INFO:tensorflow:global_step/sec: 292.155\n",
      "INFO:tensorflow:loss = 0.28188267, step = 4800 (0.342 sec)\n",
      "INFO:tensorflow:global_step/sec: 258.96\n",
      "INFO:tensorflow:loss = 0.26789117, step = 4900 (0.387 sec)\n",
      "INFO:tensorflow:Calling checkpoint listeners before saving checkpoint 5000...\n",
      "INFO:tensorflow:Saving checkpoints for 5000 into C:\\Users\\LAPTOP\\AppData\\Local\\Temp\\tmpa5rsy1r4\\model.ckpt.\n",
      "INFO:tensorflow:Calling checkpoint listeners after saving checkpoint 5000...\n",
      "INFO:tensorflow:Loss for final step: 0.27768123.\n"
     ]
    },
    {
     "data": {
      "text/plain": [
       "<tensorflow_estimator.python.estimator.canned.dnn.DNNClassifierV2 at 0x23e02ec7d30>"
      ]
     },
     "execution_count": 10,
     "metadata": {},
     "output_type": "execute_result"
    }
   ],
   "source": [
    "Classifier.train(input_fn=lambda: input_fn(train, train_y, training=True), steps=5000)\n",
    "\n",
    "#we include a lambda to avoid creating an inner function previously"
   ]
  },
  {
   "cell_type": "markdown",
   "metadata": {},
   "source": [
    "Classifier.evaluate(input_fn=lambda: input_fn(test, test_y, training=False))\n",
    "print(\"\\Test set accuracy: {accuracy:0.3f}\\n\".format(**eval_results))"
   ]
  },
  {
   "cell_type": "code",
   "execution_count": 11,
   "metadata": {},
   "outputs": [
    {
     "name": "stdout",
     "output_type": "stream",
     "text": [
      "Please type numeric values as prompted.\n",
      "SepalLength: 2.3\n",
      "SepalWidth: 4.3\n",
      "PetalLength: 65.3\n",
      "PetalWidth: 234.2\n",
      "INFO:tensorflow:Calling model_fn.\n",
      "INFO:tensorflow:Done calling model_fn.\n",
      "INFO:tensorflow:Graph was finalized.\n",
      "INFO:tensorflow:Restoring parameters from C:\\Users\\LAPTOP\\AppData\\Local\\Temp\\tmpa5rsy1r4\\model.ckpt-5000\n",
      "INFO:tensorflow:Running local_init_op.\n",
      "INFO:tensorflow:Done running local_init_op.\n",
      "Prediction is \"Virginica\" (100.0%)\n"
     ]
    }
   ],
   "source": [
    "def input_fn(features, batch_size=256):\n",
    "    #convert the input to dataset without labels\n",
    "    return tf.data.Dataset.from_tensor_slices(dict(features)).batch(batch_size)\n",
    "\n",
    "features = ['SepalLength','SepalWidth','PetalLength','PetalWidth']\n",
    "predict = {}\n",
    "\n",
    "print(\"Please type numeric values as prompted.\")\n",
    "for feature in features:\n",
    "    valid = True\n",
    "    while valid:\n",
    "        val = input(feature + \": \")\n",
    "        if not val.isdigit(): valid = False\n",
    "            \n",
    "            \n",
    "    predict[feature] = [float(val)]\n",
    "    \n",
    "predictions = Classifier.predict(input_fn=lambda: input_fn(predict))\n",
    "for pre_dict in predictions:\n",
    "    class_id = pre_dict['class_ids'][0]\n",
    "    probability = pre_dict['probabilities'][class_id]\n",
    "    \n",
    "    \n",
    "    print('Prediction is \"{}\" ({:.1f}%)'.format(SPECIES[class_id], 100 * probability))"
   ]
  },
  {
   "cell_type": "code",
   "execution_count": null,
   "metadata": {},
   "outputs": [],
   "source": []
  }
 ],
 "metadata": {
  "kernelspec": {
   "display_name": "Python 3 (ipykernel)",
   "language": "python",
   "name": "python3"
  },
  "language_info": {
   "codemirror_mode": {
    "name": "ipython",
    "version": 3
   },
   "file_extension": ".py",
   "mimetype": "text/x-python",
   "name": "python",
   "nbconvert_exporter": "python",
   "pygments_lexer": "ipython3",
   "version": "3.9.12"
  }
 },
 "nbformat": 4,
 "nbformat_minor": 4
}
